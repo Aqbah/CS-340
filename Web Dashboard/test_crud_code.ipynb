from AnimalShelter import AnimalShelter

# Create an instance of the AnimalShelter class
shelter = AnimalShelter()

# Insert a sample animal document
animal = {
    "name": "Notebook Pup",
    "breed": "Labrador Retriever Mix",
    "age_upon_outcome": "6 months",
    "outcome_type": "Adoption",
    "animal_type": "Dog"
}

insert_result = shelter.create(animal)
print("Insert Success:", insert_result)

# Testing the reading query
query_result = shelter.read({"name": "Notebook Pup"})
for item in query_result:
    print(item)
    
# --- Test Update ---
# Change 'Notebook Pup' to 'Notebook Pup Jr'
update_result = shelter.update(
    {"name": "Notebook Pup"},
    {"name": "Notebook Pup Jr"}
)
print("Documents Updated:", update_result)

# --- Test Delete ---
# Delete the updated test document
delete_result = shelter.delete({"name": "Notebook Pup Jr"})
print("Documents Deleted:", delete_result)
