{
 "cells": [
  {
   "cell_type": "code",
   "execution_count": 1,
   "id": "abb7cd42",
   "metadata": {},
   "outputs": [
    {
     "name": "stdout",
     "output_type": "stream",
     "text": [
      "Successfully connected to MongoDB!\n"
     ]
    }
   ],
   "source": [
    "from AnimalShelter import AnimalShelter\n",
    "\n",
    "# Create an instance of the AnimalShelter class\n",
    "shelter = AnimalShelter()"
   ]
  },
  {
   "cell_type": "code",
   "execution_count": 2,
   "id": "9fad2035",
   "metadata": {},
   "outputs": [
    {
     "name": "stdout",
     "output_type": "stream",
     "text": [
      "Insert Success: True\n"
     ]
    }
   ],
   "source": [
    "# Insert a sample animal document\n",
    "animal = {\n",
    "    \"name\": \"Notebook Pup\",\n",
    "    \"breed\": \"Labrador Retriever Mix\",\n",
    "    \"age_upon_outcome\": \"6 months\",\n",
    "    \"outcome_type\": \"Adoption\",\n",
    "    \"animal_type\": \"Dog\"\n",
    "}\n",
    "\n",
    "\n",
    "insert_result = shelter.create(animal)\n",
    "print(\"Insert Success:\", insert_result)"
   ]
  },
  {
   "cell_type": "code",
   "execution_count": 3,
   "id": "4439aa8c",
   "metadata": {
    "scrolled": true
   },
   "outputs": [
    {
     "name": "stdout",
     "output_type": "stream",
     "text": [
      "Query Result:\n",
      "{'_id': ObjectId('6886688d8ae6b84984dd1d69'), 'name': 'Notebook Pup', 'breed': 'Labrador Retriever Mix', 'age_upon_outcome': '6 months', 'outcome_type': 'Adoption', 'animal_type': 'Dog'}\n",
      "{'_id': ObjectId('68935dfb2297f6ff0f8c1083'), 'name': 'Notebook Pup', 'breed': 'Labrador Retriever Mix', 'age_upon_outcome': '6 months', 'outcome_type': 'Adoption', 'animal_type': 'Dog'}\n"
     ]
    }
   ],
   "source": [
    "# Query all Labrador Retriever Mix animals\n",
    "query_result = shelter.read({\"name\": \"Notebook Pup\"})\n",
    "print(\"Query Result:\")\n",
    "for item in query_result:\n",
    "    print(item)"
   ]
  },
  {
   "cell_type": "code",
   "execution_count": 4,
   "id": "c5476b5b",
   "metadata": {},
   "outputs": [
    {
     "name": "stdout",
     "output_type": "stream",
     "text": [
      "Documents Updated: 2\n"
     ]
    }
   ],
   "source": [
    "# --- Test Update ---\n",
    "# Change 'Notebook Pup' to 'Notebook Pup Jr'\n",
    "update_result = shelter.update(\n",
    "    {\"name\": \"Notebook Pup\"},\n",
    "    {\"name\": \"Notebook Pup Jr\"}\n",
    ")\n",
    "print(\"Documents Updated:\", update_result)"
   ]
  },
  {
   "cell_type": "code",
   "execution_count": 5,
   "id": "2eafe772",
   "metadata": {},
   "outputs": [
    {
     "name": "stdout",
     "output_type": "stream",
     "text": [
      "Documents Deleted: 2\n"
     ]
    }
   ],
   "source": [
    "# --- Test Delete ---\n",
    "# Delete the updated test document\n",
    "delete_result = shelter.delete({\"name\": \"Notebook Pup Jr\"})\n",
    "print(\"Documents Deleted:\", delete_result)"
   ]
  },
  {
   "cell_type": "code",
   "execution_count": null,
   "id": "1d4b841f",
   "metadata": {},
   "outputs": [],
   "source": []
  }
 ],
 "metadata": {
  "kernelspec": {
   "display_name": "Python 3 (ipykernel)",
   "language": "python",
   "name": "python3"
  },
  "language_info": {
   "codemirror_mode": {
    "name": "ipython",
    "version": 3
   },
   "file_extension": ".py",
   "mimetype": "text/x-python",
   "name": "python",
   "nbconvert_exporter": "python",
   "pygments_lexer": "ipython3",
   "version": "3.9.12"
  }
 },
 "nbformat": 4,
 "nbformat_minor": 5
}
